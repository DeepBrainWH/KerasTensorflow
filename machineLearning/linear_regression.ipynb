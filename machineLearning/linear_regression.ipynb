{
 "cells": [
  {
   "cell_type": "code",
   "execution_count": 6,
   "metadata": {},
   "outputs": [],
   "source": [
    "import numpy as np"
   ]
  },
  {
   "cell_type": "code",
   "execution_count": 7,
   "metadata": {},
   "outputs": [],
   "source": [
    "def lossfunction(w, x, b, y):\n",
    "     return 1/2 * np.sum((x.dot(w) + b - y) ** 2)"
   ]
  },
  {
   "cell_type": "code",
   "execution_count": 8,
   "metadata": {},
   "outputs": [],
   "source": [
    "# w: weight, b: biase, y: the sample's value, alpha: learning rate\n",
    "def optimier(w, x, b, y, alph):\n",
    "    w_p = w - ((alph * (x.dot(w) + b - y)).T.dot(x)).T\n",
    "    b_p = b - (alph * (x.dot(w) + b - y))\n",
    "    return (w_p, b_p)"
   ]
  },
  {
   "cell_type": "code",
   "execution_count": 9,
   "metadata": {},
   "outputs": [],
   "source": [
    "def main():\n",
    "    x = np.arange(0, 100).reshape(20, 5)# 20 samples and which sample has 5 types\n",
    "    w = np.random.randn(5, 1)\n",
    "    b = np.random.randn(20, 1)\n",
    "    alph = 0.01\n",
    "    noise = np.random.randn(20, 5)\n",
    "    y = np.arange(1, 21).reshape(20, 1)\n",
    "    for i in range(50):\n",
    "        loss_value = lossfunction(w, x, b, y)\n",
    "        (w, b) = optimier(w, x, b, y, alph)\n",
    "        print(w.shape, b.shape)\n",
    "        print(\"epoch \" + str(i) + \", the loss value is :\" + str(loss_value))"
   ]
  },
  {
   "cell_type": "code",
   "execution_count": 10,
   "metadata": {},
   "outputs": [
    {
     "name": "stdout",
     "output_type": "stream",
     "text": [
      "(5, 1) (20, 1)\n",
      "epoch 0, the loss value is :558.4486633497129\n",
      "(5, 1) (20, 1)\n",
      "epoch 1, the loss value is :5728183187.292904\n",
      "(5, 1) (20, 1)\n",
      "epoch 2, the loss value is :6.170139799225709e+16\n",
      "(5, 1) (20, 1)\n",
      "epoch 3, the loss value is :6.646195483186869e+23\n",
      "(5, 1) (20, 1)\n",
      "epoch 4, the loss value is :7.15898113139619e+30\n",
      "(5, 1) (20, 1)\n",
      "epoch 5, the loss value is :7.711330635600219e+37\n",
      "(5, 1) (20, 1)\n",
      "epoch 6, the loss value is :8.306296535796189e+44\n",
      "(5, 1) (20, 1)\n",
      "epoch 7, the loss value is :8.947166889986365e+51\n",
      "(5, 1) (20, 1)\n",
      "epoch 8, the loss value is :9.637483445514265e+58\n",
      "(5, 1) (20, 1)\n",
      "epoch 9, the loss value is :1.0381061212406097e+66\n",
      "(5, 1) (20, 1)\n",
      "epoch 10, the loss value is :1.11820095468887e+73\n",
      "(5, 1) (20, 1)\n",
      "epoch 11, the loss value is :1.20447548616014e+80\n",
      "(5, 1) (20, 1)\n",
      "epoch 12, the loss value is :1.2974065088008864e+87\n",
      "(5, 1) (20, 1)\n",
      "epoch 13, the loss value is :1.3975076026205714e+94\n",
      "(5, 1) (20, 1)\n",
      "epoch 14, the loss value is :1.5053319727734074e+101\n",
      "(5, 1) (20, 1)\n",
      "epoch 15, the loss value is :1.621475506827073e+108\n",
      "(5, 1) (20, 1)\n",
      "epoch 16, the loss value is :1.7465800679142786e+115\n",
      "(5, 1) (20, 1)\n",
      "epoch 17, the loss value is :1.8813370419666662e+122\n",
      "(5, 1) (20, 1)\n",
      "epoch 18, the loss value is :2.0264911586347038e+129\n",
      "(5, 1) (20, 1)\n",
      "epoch 19, the loss value is :2.1828446070097553e+136\n",
      "(5, 1) (20, 1)\n",
      "epoch 20, the loss value is :2.3512614688937216e+143\n",
      "(5, 1) (20, 1)\n",
      "epoch 21, the loss value is :2.5326724941165523e+150\n",
      "(5, 1) (20, 1)\n",
      "epoch 22, the loss value is :2.728080244292257e+157\n",
      "(5, 1) (20, 1)\n",
      "epoch 23, the loss value is :2.938564633440207e+164\n",
      "(5, 1) (20, 1)\n",
      "epoch 24, the loss value is :3.1652888960917604e+171\n",
      "(5, 1) (20, 1)\n",
      "epoch 25, the loss value is :3.409506015864756e+178\n",
      "(5, 1) (20, 1)\n",
      "epoch 26, the loss value is :3.672565650033154e+185\n",
      "(5, 1) (20, 1)\n",
      "epoch 27, the loss value is :3.955921588360223e+192\n",
      "(5, 1) (20, 1)\n",
      "epoch 28, the loss value is :4.261139787416245e+199\n",
      "(5, 1) (20, 1)\n",
      "epoch 29, the loss value is :4.5899070247821e+206\n",
      "(5, 1) (20, 1)\n",
      "epoch 30, the loss value is :4.944040220965917e+213\n",
      "(5, 1) (20, 1)\n",
      "epoch 31, the loss value is :5.325496480549981e+220\n",
      "(5, 1) (20, 1)\n",
      "epoch 32, the loss value is :5.736383908059993e+227\n",
      "(5, 1) (20, 1)\n",
      "epoch 33, the loss value is :6.178973258330143e+234\n",
      "(5, 1) (20, 1)\n",
      "epoch 34, the loss value is :6.655710485749401e+241\n",
      "(5, 1) (20, 1)\n",
      "epoch 35, the loss value is :7.169230261741916e+248\n",
      "(5, 1) (20, 1)\n",
      "epoch 36, the loss value is :7.722370535185458e+255\n",
      "(5, 1) (20, 1)\n",
      "epoch 37, the loss value is :8.3181882162355e+262\n",
      "(5, 1) (20, 1)\n",
      "epoch 38, the loss value is :8.959976070231058e+269\n",
      "(5, 1) (20, 1)\n",
      "epoch 39, the loss value is :9.651280915045879e+276\n",
      "(5, 1) (20, 1)\n",
      "epoch 40, the loss value is :1.039592322245195e+284\n",
      "(5, 1) (20, 1)\n",
      "epoch 41, the loss value is :1.1198018231821612e+291\n",
      "(5, 1) (20, 1)\n",
      "epoch 42, the loss value is :1.206199869285239e+298\n",
      "(5, 1) (20, 1)\n",
      "epoch 43, the loss value is :1.2992639363001397e+305\n",
      "(5, 1) (20, 1)\n",
      "epoch 44, the loss value is :inf\n",
      "(5, 1) (20, 1)\n",
      "epoch 45, the loss value is :inf\n",
      "(5, 1) (20, 1)\n",
      "epoch 46, the loss value is :inf\n",
      "(5, 1) (20, 1)\n",
      "epoch 47, the loss value is :inf\n",
      "(5, 1) (20, 1)\n",
      "epoch 48, the loss value is :inf\n",
      "(5, 1) (20, 1)\n",
      "epoch 49, the loss value is :inf\n"
     ]
    },
    {
     "name": "stderr",
     "output_type": "stream",
     "text": [
      "D:\\ProgramData\\Anaconda3\\lib\\site-packages\\ipykernel_launcher.py:2: RuntimeWarning: overflow encountered in square\n",
      "  \n"
     ]
    }
   ],
   "source": [
    "main()"
   ]
  },
  {
   "cell_type": "code",
   "execution_count": null,
   "metadata": {},
   "outputs": [],
   "source": []
  }
 ],
 "metadata": {
  "kernelspec": {
   "display_name": "Python 3",
   "language": "python",
   "name": "python3"
  },
  "language_info": {
   "codemirror_mode": {
    "name": "ipython",
    "version": 3
   },
   "file_extension": ".py",
   "mimetype": "text/x-python",
   "name": "python",
   "nbconvert_exporter": "python",
   "pygments_lexer": "ipython3",
   "version": "3.6.3"
  }
 },
 "nbformat": 4,
 "nbformat_minor": 2
}
