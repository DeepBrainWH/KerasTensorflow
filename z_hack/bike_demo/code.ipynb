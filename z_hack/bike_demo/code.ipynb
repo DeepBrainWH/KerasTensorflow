{
 "cells": [
  {
   "cell_type": "code",
   "execution_count": 1,
   "metadata": {},
   "outputs": [
    {
     "name": "stderr",
     "output_type": "stream",
     "text": [
      "Using TensorFlow backend.\n"
     ]
    }
   ],
   "source": [
    "import matplotlib.pyplot as plt\n",
    "import numpy as np\n",
    "import time\n",
    "import csv\n",
    "from keras.layers.core import Dense, Activation, Dropout\n",
    "from keras.layers.recurrent import LSTM, GRU\n",
    "from keras.models import Sequential, load_model\n",
    "\n",
    "np.random.seed(2017)"
   ]
  },
  {
   "cell_type": "code",
   "execution_count": 2,
   "metadata": {},
   "outputs": [],
   "source": [
    "def data_bike_num(path_to_dataset='./bike_rnn.csv',\n",
    "                           sequence_length=20,\n",
    "                           ratio=1.0):\n",
    "\n",
    "    max_values = ratio * 45949\n",
    "\n",
    "    with open(path_to_dataset) as f:\n",
    "        data = csv.reader(f, delimiter=\",\")\n",
    "        next(data, None)  # skip the headers\n",
    "        # print(len(data))\n",
    "        bikes = []\n",
    "        nb_of_values = 0\n",
    "        for line in data:\n",
    "            try:\n",
    "                bikes.append(float(line[0]))\n",
    "                nb_of_values += 1\n",
    "            except ValueError:\n",
    "                pass\n",
    "            if nb_of_values >= max_values:\n",
    "                break\n",
    "\n",
    "    print (\"Data loaded from csv. Formatting...\")\n",
    "    print(len(bikes))\n",
    "    result = []\n",
    "    for index in range(len(bikes) - sequence_length):\n",
    "        result.append(bikes[index: index + sequence_length])\n",
    "    result = np.array(result)  # shape (2049230, 50)\n",
    "\n",
    "    result_mean = result.mean()\n",
    "    result -= result_mean\n",
    "    print(\"Shift: \", result_mean)\n",
    "    print (\"Data: \", result.shape)\n",
    "\n",
    "    row = int(round(0.95 * result.shape[0]))\n",
    "    train = result[:row, :]\n",
    "    np.random.shuffle(train)\n",
    "    X_train = train[:, :-1]\n",
    "    y_train = train[:, -1]\n",
    "    X_test = result[row:, :-1] # 2297\n",
    "    y_test = result[row:, -1]\n",
    "\n",
    "    X_train = np.reshape(X_train, (X_train.shape[0], X_train.shape[1], 1))\n",
    "    X_test = np.reshape(X_test, (X_test.shape[0], X_test.shape[1], 1))\n",
    "\n",
    "    print(X_train.shape, y_train.shape)\n",
    "    return [X_train, y_train, X_test, y_test, result_mean]"
   ]
  },
  {
   "cell_type": "code",
   "execution_count": 3,
   "metadata": {},
   "outputs": [],
   "source": [
    "def build_model():\n",
    "    model = Sequential()\n",
    "    layers = [1, 50, 100, 1]\n",
    "\n",
    "    model.add(GRU(\n",
    "        layers[1],\n",
    "        input_shape=(None, layers[0]),\n",
    "        return_sequences=True))\n",
    "    model.add(Dropout(0.2))\n",
    "\n",
    "    model.add(GRU(\n",
    "        layers[2],\n",
    "        return_sequences=False))\n",
    "    model.add(Dropout(0.2))\n",
    "\n",
    "    model.add(Dense(\n",
    "        layers[3]))\n",
    "    model.add(Activation(\"linear\"))\n",
    "\n",
    "    start = time.time()\n",
    "    model.compile(loss=\"mse\", optimizer=\"rmsprop\", metrics=['mae', 'mape'])\n",
    "    print (\"Compilation Time : \", time.time() - start)\n",
    "    return model\n"
   ]
  },
  {
   "cell_type": "code",
   "execution_count": 8,
   "metadata": {},
   "outputs": [],
   "source": [
    "def run_network(model=None, data=None):\n",
    "    global_start_time = time.time()\n",
    "    epochs = 2\n",
    "    ratio = 1\n",
    "    sequence_length = 20\n",
    "    path_to_dataset = './bike_rnn.csv'\n",
    "\n",
    "    if data is None:\n",
    "        print ('Loading data... ')\n",
    "        X_train, y_train, X_test, y_test, result_mean = data_bike_num(\n",
    "            path_to_dataset, sequence_length, ratio)\n",
    "    else:\n",
    "        X_train, y_train, X_test, y_test = data\n",
    "\n",
    "    print ('\\nData Loaded. Compiling...\\n')\n",
    "\n",
    "    "
   ]
  },
  {
   "cell_type": "code",
   "execution_count": 10,
   "metadata": {},
   "outputs": [
    {
     "name": "stdout",
     "output_type": "stream",
     "text": [
      "Data loaded from csv. Formatting...\n",
      "45949\n",
      "Shift:  6.997708419517081\n",
      "Data:  (45929, 20)\n"
     ]
    }
   ],
   "source": [
    "[X_train, y_train, X_test, y_test, result_mean] = data_bike_num()"
   ]
  },
  {
   "cell_type": "code",
   "execution_count": 11,
   "metadata": {},
   "outputs": [
    {
     "data": {
      "text/plain": [
       "(43633, 19, 1)"
      ]
     },
     "execution_count": 11,
     "metadata": {},
     "output_type": "execute_result"
    }
   ],
   "source": [
    "X_train.shape"
   ]
  },
  {
   "cell_type": "code",
   "execution_count": 12,
   "metadata": {},
   "outputs": [
    {
     "data": {
      "text/plain": [
       "(43633,)"
      ]
     },
     "execution_count": 12,
     "metadata": {},
     "output_type": "execute_result"
    }
   ],
   "source": [
    "y_train.shape"
   ]
  },
  {
   "cell_type": "code",
   "execution_count": 9,
   "metadata": {},
   "outputs": [
    {
     "name": "stdout",
     "output_type": "stream",
     "text": [
      "Loading data... \n",
      "Data loaded from csv. Formatting...\n",
      "45949\n",
      "Shift:  6.997708419517081\n",
      "Data:  (45929, 20)\n",
      "\n",
      "Data Loaded. Compiling...\n",
      "\n",
      "Compilation Time :  0.04390978813171387\n",
      "Train on 41451 samples, validate on 2182 samples\n",
      "Epoch 1/2\n",
      "41451/41451 [==============================] - 10s 233us/step - loss: 6.7961 - mean_absolute_error: 1.5219 - mean_absolute_percentage_error: 1281.2442 - val_loss: 2.0370 - val_mean_absolute_error: 0.9534 - val_mean_absolute_percentage_error: 698.6535\n",
      "Epoch 2/2\n",
      "41451/41451 [==============================] - 4s 106us/step - loss: 1.7460 - mean_absolute_error: 0.8337 - mean_absolute_percentage_error: 764.7500 - val_loss: 1.0432 - val_mean_absolute_error: 0.5670 - val_mean_absolute_percentage_error: 709.7784\n",
      "2296/2296 [==============================] - 0s 30us/step\n",
      "\n",
      "evaluate result: \n",
      "mse=0.445909\n",
      "mae=0.437174\n",
      "mape=337.011673\n"
     ]
    },
    {
     "data": {
      "image/png": "[encoded data removed]",
      "text/plain": [
       "<Figure size 432x288 with 1 Axes>"
      ]
     },
     "metadata": {},
     "output_type": "display_data"
    },
    {
     "name": "stdout",
     "output_type": "stream",
     "text": [
      "Training duration (s) :  18.028944730758667\n"
     ]
    },
    {
     "data": {
      "text/plain": [
       "(<keras.engine.sequential.Sequential at 0x2a5f7c48dd8>,\n",
       " array([11., 11., 11., ...,  6.,  6.,  6.]),\n",
       " array([10.754302 , 10.754302 , 10.754302 , ...,  6.066625 ,  6.0474396,\n",
       "         5.978677 ], dtype=float32))"
      ]
     },
     "execution_count": 9,
     "metadata": {},
     "output_type": "execute_result"
    }
   ],
   "source": [
    "run_network()"
   ]
  },
  {
   "cell_type": "code",
   "execution_count": null,
   "metadata": {},
   "outputs": [],
   "source": [
    "model = build_model()\n",
    "    try:\n",
    "        model.fit(\n",
    "            X_train, y_train,\n",
    "            batch_size=512, epochs=epochs, validation_split=0.05)\n",
    "        model.save('bike.h5')\n",
    "        predicted = model.predict(X_test)\n",
    "        predicted = np.reshape(predicted, (predicted.size,))\n",
    "    except KeyboardInterrupt:\n",
    "        print ('Training duration (s) : ', time.time() - global_start_time)\n",
    "        return model, y_test, 0\n",
    "\n",
    "    try:\n",
    "        # Evaluate\n",
    "        scores = model.evaluate(X_test, y_test, batch_size=512)\n",
    "        print(\"\\nevaluate result: \\nmse={:.6f}\\nmae={:.6f}\\nmape={:.6f}\".format(scores[0], scores[1], scores[2]))\n",
    "\n",
    "        # draw the figure\n",
    "        y_test += result_mean\n",
    "        predicted += result_mean\n",
    "\n",
    "        fig = plt.figure()\n",
    "        ax = fig.add_subplot(111)\n",
    "        ax.plot(y_test,label=\"Real\")\n",
    "        ax.legend(loc='upper left')\n",
    "        plt.plot(predicted,label=\"Prediction\")\n",
    "        plt.legend(loc='upper left')\n",
    "        plt.show()\n",
    "\n",
    "    except Exception as e:\n",
    "        print (str(e))\n",
    "    print ('Training duration (s) : ', time.time() - global_start_time)\n",
    "\n",
    "    return model, y_test, predicted\n"
   ]
  }
 ],
 "metadata": {
  "kernelspec": {
   "display_name": "Python 3",
   "language": "python",
   "name": "python3"
  },
  "language_info": {
   "codemirror_mode": {
    "name": "ipython",
    "version": 3
   },
   "file_extension": ".py",
   "mimetype": "text/x-python",
   "name": "python",
   "nbconvert_exporter": "python",
   "pygments_lexer": "ipython3",
   "version": "3.6.5"
  }
 },
 "nbformat": 4,
 "nbformat_minor": 2
}
