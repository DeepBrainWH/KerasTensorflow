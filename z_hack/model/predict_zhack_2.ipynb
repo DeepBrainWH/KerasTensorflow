{
 "cells": [
  {
   "cell_type": "code",
   "execution_count": 2,
   "metadata": {},
   "outputs": [],
   "source": [
    "import tensorflow as tf\n",
    "from tensorflow.keras.layers import Dense, Dropout, SimpleRNN\n",
    "from tensorflow.keras.models import Sequential\n",
    "import numpy as np\n",
    "import matplotlib.pyplot as plt\n",
    "from tensorflow.keras.layers import Layer"
   ]
  },
  {
   "cell_type": "code",
   "execution_count": 3,
   "metadata": {},
   "outputs": [],
   "source": [
    "filename = r\"../data/all_part\"\n",
    "LAYERS = [30, 30, 30, 30, 10]"
   ]
  },
  {
   "cell_type": "code",
   "execution_count": 4,
   "metadata": {},
   "outputs": [],
   "source": [
    "def get_train_data(data):\n",
    "    x_train = []\n",
    "    y_train = []\n",
    "    for i in range(int(data.shape[0]) - TIMESTEP):\n",
    "        x_train.append(data[i:i+TIMESTEP])\n",
    "        y_train.append(data[i+TIMESTEP])\n",
    "    \n",
    "    x_train = np.asarray(x_train, dtype=np.float32)\n",
    "    y_train = np.asarray(y_train, dtype=np.float32)\n",
    "    \n",
    "    return x_train.reshape(x_train.shape[0], x_train.shape[1], 1), y_train"
   ]
  },
  {
   "cell_type": "code",
   "execution_count": 5,
   "metadata": {},
   "outputs": [],
   "source": [
    "import pandas as pd"
   ]
  },
  {
   "cell_type": "code",
   "execution_count": 6,
   "metadata": {},
   "outputs": [
    {
     "data": {
      "text/html": [
       "<div>\n",
       "<style scoped>\n",
       "    .dataframe tbody tr th:only-of-type {\n",
       "        vertical-align: middle;\n",
       "    }\n",
       "\n",
       "    .dataframe tbody tr th {\n",
       "        vertical-align: top;\n",
       "    }\n",
       "\n",
       "    .dataframe thead th {\n",
       "        text-align: right;\n",
       "    }\n",
       "</style>\n",
       "<table border=\"1\" class=\"dataframe\">\n",
       "  <thead>\n",
       "    <tr style=\"text-align: right;\">\n",
       "      <th></th>\n",
       "      <th>日期</th>\n",
       "      <th>总成交金额</th>\n",
       "      <th>总成交数量</th>\n",
       "      <th>日均成交金额</th>\n",
       "    </tr>\n",
       "  </thead>\n",
       "  <tbody>\n",
       "    <tr>\n",
       "      <th>0</th>\n",
       "      <td>2009-01-04</td>\n",
       "      <td>161674229.0</td>\n",
       "      <td>460360</td>\n",
       "      <td>2824.303102</td>\n",
       "    </tr>\n",
       "    <tr>\n",
       "      <th>1</th>\n",
       "      <td>2009-01-05</td>\n",
       "      <td>141471095.0</td>\n",
       "      <td>419527</td>\n",
       "      <td>2823.491818</td>\n",
       "    </tr>\n",
       "    <tr>\n",
       "      <th>2</th>\n",
       "      <td>2009-01-06</td>\n",
       "      <td>84491048.0</td>\n",
       "      <td>206177</td>\n",
       "      <td>2798.935017</td>\n",
       "    </tr>\n",
       "    <tr>\n",
       "      <th>3</th>\n",
       "      <td>2009-01-07</td>\n",
       "      <td>113116729.0</td>\n",
       "      <td>332283</td>\n",
       "      <td>2811.224173</td>\n",
       "    </tr>\n",
       "    <tr>\n",
       "      <th>4</th>\n",
       "      <td>2009-01-08</td>\n",
       "      <td>86225458.0</td>\n",
       "      <td>220036</td>\n",
       "      <td>2782.819729</td>\n",
       "    </tr>\n",
       "    <tr>\n",
       "      <th>5</th>\n",
       "      <td>2009-01-09</td>\n",
       "      <td>96528746.0</td>\n",
       "      <td>212408</td>\n",
       "      <td>2791.764161</td>\n",
       "    </tr>\n",
       "    <tr>\n",
       "      <th>6</th>\n",
       "      <td>2009-01-12</td>\n",
       "      <td>188201601.0</td>\n",
       "      <td>634212</td>\n",
       "      <td>2849.966686</td>\n",
       "    </tr>\n",
       "    <tr>\n",
       "      <th>7</th>\n",
       "      <td>2009-01-13</td>\n",
       "      <td>121582221.0</td>\n",
       "      <td>339050</td>\n",
       "      <td>2848.203796</td>\n",
       "    </tr>\n",
       "    <tr>\n",
       "      <th>8</th>\n",
       "      <td>2009-01-14</td>\n",
       "      <td>166679271.0</td>\n",
       "      <td>555477</td>\n",
       "      <td>2904.523836</td>\n",
       "    </tr>\n",
       "    <tr>\n",
       "      <th>9</th>\n",
       "      <td>2009-01-15</td>\n",
       "      <td>82333494.0</td>\n",
       "      <td>226080</td>\n",
       "      <td>2945.673332</td>\n",
       "    </tr>\n",
       "  </tbody>\n",
       "</table>\n",
       "</div>"
      ],
      "text/plain": [
       "           日期        总成交金额   总成交数量       日均成交金额\n",
       "0  2009-01-04  161674229.0  460360  2824.303102\n",
       "1  2009-01-05  141471095.0  419527  2823.491818\n",
       "2  2009-01-06   84491048.0  206177  2798.935017\n",
       "3  2009-01-07  113116729.0  332283  2811.224173\n",
       "4  2009-01-08   86225458.0  220036  2782.819729\n",
       "5  2009-01-09   96528746.0  212408  2791.764161\n",
       "6  2009-01-12  188201601.0  634212  2849.966686\n",
       "7  2009-01-13  121582221.0  339050  2848.203796\n",
       "8  2009-01-14  166679271.0  555477  2904.523836\n",
       "9  2009-01-15   82333494.0  226080  2945.673332"
      ]
     },
     "execution_count": 6,
     "metadata": {},
     "output_type": "execute_result"
    }
   ],
   "source": [
    "dataframe = pd.read_csv(filepath_or_buffer=filename, sep=\"\\t\")\n",
    "dataframe.iloc[:10, :]"
   ]
  },
  {
   "cell_type": "code",
   "execution_count": null,
   "metadata": {},
   "outputs": [],
   "source": []
  }
 ],
 "metadata": {
  "kernelspec": {
   "display_name": "Python 3",
   "language": "python",
   "name": "python3"
  },
  "language_info": {
   "codemirror_mode": {
    "name": "ipython",
    "version": 3
   },
   "file_extension": ".py",
   "mimetype": "text/x-python",
   "name": "python",
   "nbconvert_exporter": "python",
   "pygments_lexer": "ipython3",
   "version": "3.6.2"
  }
 },
 "nbformat": 4,
 "nbformat_minor": 2
}
