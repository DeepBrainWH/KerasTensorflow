{
 "cells": [
  {
   "cell_type": "markdown",
   "metadata": {},
   "source": [
    "## Add Dense"
   ]
  },
  {
   "cell_type": "code",
   "execution_count": 1,
   "metadata": {},
   "outputs": [
    {
     "name": "stderr",
     "output_type": "stream",
     "text": [
      "Using TensorFlow backend.\n"
     ]
    }
   ],
   "source": [
    "from keras.models import Sequential\n",
    "from keras.layers import Dense\n",
    "from keras.utils import np_utils"
   ]
  },
  {
   "cell_type": "code",
   "execution_count": 2,
   "metadata": {},
   "outputs": [],
   "source": [
    "model = Sequential()\n",
    "model.add(Dense(units=1000, input_dim=784, kernel_initializer='normal', activation='relu'))\n",
    "model.add(Dense(units=10, kernel_initializer='normal', activation='softmax'))"
   ]
  },
  {
   "cell_type": "code",
   "execution_count": 3,
   "metadata": {},
   "outputs": [
    {
     "name": "stdout",
     "output_type": "stream",
     "text": [
      "_________________________________________________________________\n",
      "Layer (type)                 Output Shape              Param #   \n",
      "=================================================================\n",
      "dense_1 (Dense)              (None, 1000)              785000    \n",
      "_________________________________________________________________\n",
      "dense_2 (Dense)              (None, 10)                10010     \n",
      "=================================================================\n",
      "Total params: 795,010\n",
      "Trainable params: 795,010\n",
      "Non-trainable params: 0\n",
      "_________________________________________________________________\n",
      "None\n"
     ]
    }
   ],
   "source": [
    "print(model.summary())"
   ]
  },
  {
   "cell_type": "code",
   "execution_count": 4,
   "metadata": {},
   "outputs": [],
   "source": [
    "model.compile(loss='categorical_crossentropy', optimizer='adam', metrics=['accuracy'])"
   ]
  },
  {
   "cell_type": "code",
   "execution_count": 5,
   "metadata": {},
   "outputs": [],
   "source": [
    "from keras.datasets import mnist\n",
    "(x_train, y_train),(x_test, y_test) = mnist.load_data()\n",
    "x_train = x_train.reshape(x_train.shape[0], x_train.shape[1] * x_train.shape[2]).astype('float32')\n",
    "x_test = x_test.reshape(x_test.shape[0], x_test.shape[1] * x_test.shape[2]).astype('float32')"
   ]
  },
  {
   "cell_type": "code",
   "execution_count": 6,
   "metadata": {},
   "outputs": [],
   "source": [
    "x_train_normalize = x_train / 255\n",
    "x_test_normalize = y_train / 255"
   ]
  },
  {
   "cell_type": "code",
   "execution_count": 7,
   "metadata": {},
   "outputs": [],
   "source": [
    "from keras.utils import to_categorical\n",
    "y_train_onehot = to_categorical(y_train)\n",
    "y_test_onehot = to_categorical(y_test)"
   ]
  },
  {
   "cell_type": "code",
   "execution_count": 8,
   "metadata": {},
   "outputs": [
    {
     "name": "stdout",
     "output_type": "stream",
     "text": [
      "Train on 48000 samples, validate on 12000 samples\n",
      "Epoch 1/20\n",
      "48000/48000 [==============================] - 8s 158us/step - loss: 0.2456 - acc: 0.9281 - val_loss: 0.1214 - val_acc: 0.9655\n",
      "Epoch 2/20\n",
      "48000/48000 [==============================] - 4s 76us/step - loss: 0.0931 - acc: 0.9726 - val_loss: 0.0924 - val_acc: 0.9717\n",
      "Epoch 3/20\n",
      "48000/48000 [==============================] - 4s 77us/step - loss: 0.0591 - acc: 0.9827 - val_loss: 0.0899 - val_acc: 0.9729\n",
      "Epoch 4/20\n",
      "48000/48000 [==============================] - 4s 76us/step - loss: 0.0381 - acc: 0.9885 - val_loss: 0.0793 - val_acc: 0.9753\n",
      "Epoch 5/20\n",
      "48000/48000 [==============================] - 4s 78us/step - loss: 0.0251 - acc: 0.9931 - val_loss: 0.0729 - val_acc: 0.9788\n",
      "Epoch 6/20\n",
      "48000/48000 [==============================] - 4s 78us/step - loss: 0.0170 - acc: 0.9958 - val_loss: 0.0783 - val_acc: 0.9763\n",
      "Epoch 7/20\n",
      "48000/48000 [==============================] - 4s 79us/step - loss: 0.0129 - acc: 0.9962 - val_loss: 0.0784 - val_acc: 0.9776\n",
      "Epoch 8/20\n",
      "48000/48000 [==============================] - 4s 78us/step - loss: 0.0098 - acc: 0.9975 - val_loss: 0.0873 - val_acc: 0.9778\n",
      "Epoch 9/20\n",
      "48000/48000 [==============================] - 4s 76us/step - loss: 0.0088 - acc: 0.9978 - val_loss: 0.0792 - val_acc: 0.9790\n",
      "Epoch 10/20\n",
      "48000/48000 [==============================] - 4s 77us/step - loss: 0.0103 - acc: 0.9971 - val_loss: 0.0969 - val_acc: 0.9763\n",
      "Epoch 11/20\n",
      "48000/48000 [==============================] - 4s 76us/step - loss: 0.0095 - acc: 0.9971 - val_loss: 0.0865 - val_acc: 0.9793\n",
      "Epoch 12/20\n",
      "48000/48000 [==============================] - 4s 75us/step - loss: 0.0050 - acc: 0.9986 - val_loss: 0.0841 - val_acc: 0.9803\n",
      "Epoch 13/20\n",
      "48000/48000 [==============================] - 4s 78us/step - loss: 0.0066 - acc: 0.9979 - val_loss: 0.0908 - val_acc: 0.9793\n",
      "Epoch 14/20\n",
      "48000/48000 [==============================] - 4s 77us/step - loss: 0.0045 - acc: 0.9986 - val_loss: 0.1029 - val_acc: 0.9781\n",
      "Epoch 15/20\n",
      "48000/48000 [==============================] - 4s 77us/step - loss: 0.0078 - acc: 0.9978 - val_loss: 0.0989 - val_acc: 0.9778\n",
      "Epoch 16/20\n",
      "48000/48000 [==============================] - 4s 76us/step - loss: 0.0079 - acc: 0.9973 - val_loss: 0.0880 - val_acc: 0.9805\n",
      "Epoch 17/20\n",
      "48000/48000 [==============================] - 4s 78us/step - loss: 0.0018 - acc: 0.9996 - val_loss: 0.0781 - val_acc: 0.9826\n",
      "Epoch 18/20\n",
      "48000/48000 [==============================] - 4s 77us/step - loss: 5.4323e-04 - acc: 0.9999 - val_loss: 0.0838 - val_acc: 0.9825\n",
      "Epoch 19/20\n",
      "48000/48000 [==============================] - 4s 76us/step - loss: 0.0011 - acc: 0.9998 - val_loss: 0.0850 - val_acc: 0.9824\n",
      "Epoch 20/20\n",
      "48000/48000 [==============================] - 4s 77us/step - loss: 0.0164 - acc: 0.9947 - val_loss: 0.0961 - val_acc: 0.9787\n"
     ]
    }
   ],
   "source": [
    "train_hisitory = model.fit(x=x_train_normalize, y=y_train_onehot, batch_size=100, epochs=20, verbose=1, validation_split=0.2)"
   ]
  },
  {
   "cell_type": "code",
   "execution_count": 9,
   "metadata": {},
   "outputs": [],
   "source": [
    "import matplotlib.pyplot as plt\n",
    "def show_train_history(train_history, train, validation):\n",
    "    plt.plot(train_history.history[train])\n",
    "    plt.plot(train_history.history[validation])\n",
    "    plt.title(\"Train History\")\n",
    "    plt.ylabel(train)\n",
    "    plt.xlabel('Epoch')\n",
    "    plt.legend(['train', 'validation'], loc='upper left')\n",
    "    plt.show()"
   ]
  },
  {
   "cell_type": "code",
   "execution_count": 10,
   "metadata": {},
   "outputs": [
    {
     "data": {
      "image/png": "[encoded data removed]",
      "text/plain": [
       "<Figure size 432x288 with 1 Axes>"
      ]
     },
     "metadata": {},
     "output_type": "display_data"
    }
   ],
   "source": [
    "show_train_history(train_hisitory, 'acc', 'val_acc')"
   ]
  },
  {
   "cell_type": "markdown",
   "metadata": {},
   "source": [
    "#### 我们发现校验集和训练集差距较大，出现过拟合的问题"
   ]
  },
  {
   "cell_type": "code",
   "execution_count": 11,
   "metadata": {},
   "outputs": [
    {
     "name": "stdout",
     "output_type": "stream",
     "text": [
      "10000/10000 [==============================] - 1s 61us/step\n",
      "accuracy =  0.9811\n"
     ]
    }
   ],
   "source": [
    "scores = model.evaluate(x_test, y_test_onehot)\n",
    "print('accuracy = ', scores[1])"
   ]
  },
  {
   "cell_type": "markdown",
   "metadata": {},
   "source": [
    "#### 下面我们加入Dropout进行防止过拟合"
   ]
  },
  {
   "cell_type": "code",
   "execution_count": 12,
   "metadata": {},
   "outputs": [],
   "source": [
    "from keras.layers import Dropout"
   ]
  },
  {
   "cell_type": "code",
   "execution_count": 13,
   "metadata": {},
   "outputs": [],
   "source": [
    "model1 = Sequential()\n",
    "model1.add(Dense(units=1000, input_dim=784, kernel_initializer='normal', activation='relu'))\n",
    "model1.add(Dropout(0.5))\n",
    "model1.add(Dense(units=10, kernel_initializer='normal', activation='softmax'))"
   ]
  },
  {
   "cell_type": "code",
   "execution_count": 14,
   "metadata": {},
   "outputs": [
    {
     "name": "stdout",
     "output_type": "stream",
     "text": [
      "_________________________________________________________________\n",
      "Layer (type)                 Output Shape              Param #   \n",
      "=================================================================\n",
      "dense_3 (Dense)              (None, 1000)              785000    \n",
      "_________________________________________________________________\n",
      "dropout_1 (Dropout)          (None, 1000)              0         \n",
      "_________________________________________________________________\n",
      "dense_4 (Dense)              (None, 10)                10010     \n",
      "=================================================================\n",
      "Total params: 795,010\n",
      "Trainable params: 795,010\n",
      "Non-trainable params: 0\n",
      "_________________________________________________________________\n",
      "None\n"
     ]
    }
   ],
   "source": [
    "print(model1.summary())"
   ]
  },
  {
   "cell_type": "code",
   "execution_count": 15,
   "metadata": {},
   "outputs": [
    {
     "name": "stdout",
     "output_type": "stream",
     "text": [
      "Train on 48000 samples, validate on 12000 samples\n",
      "Epoch 1/20\n",
      "48000/48000 [==============================] - 5s 106us/step - loss: 0.3094 - acc: 0.9069 - val_loss: 0.1397 - val_acc: 0.9603\n",
      "Epoch 2/20\n",
      "48000/48000 [==============================] - 4s 85us/step - loss: 0.1388 - acc: 0.9590 - val_loss: 0.1051 - val_acc: 0.9683\n",
      "Epoch 3/20\n",
      "48000/48000 [==============================] - 4s 84us/step - loss: 0.1012 - acc: 0.9703 - val_loss: 0.0862 - val_acc: 0.9748\n",
      "Epoch 4/20\n",
      "48000/48000 [==============================] - 4s 85us/step - loss: 0.0819 - acc: 0.9751 - val_loss: 0.0793 - val_acc: 0.9764\n",
      "Epoch 5/20\n",
      "48000/48000 [==============================] - 4s 81us/step - loss: 0.0689 - acc: 0.9781 - val_loss: 0.0769 - val_acc: 0.9758\n",
      "Epoch 6/20\n",
      "48000/48000 [==============================] - 4s 81us/step - loss: 0.0583 - acc: 0.9814 - val_loss: 0.0702 - val_acc: 0.9783\n",
      "Epoch 7/20\n",
      "48000/48000 [==============================] - 4s 83us/step - loss: 0.0505 - acc: 0.9842 - val_loss: 0.0720 - val_acc: 0.9792\n",
      "Epoch 8/20\n",
      "48000/48000 [==============================] - 4s 82us/step - loss: 0.0431 - acc: 0.9863 - val_loss: 0.0727 - val_acc: 0.9786\n",
      "Epoch 9/20\n",
      "48000/48000 [==============================] - 4s 82us/step - loss: 0.0417 - acc: 0.9861 - val_loss: 0.0732 - val_acc: 0.9789\n",
      "Epoch 10/20\n",
      "48000/48000 [==============================] - 4s 82us/step - loss: 0.0362 - acc: 0.9877 - val_loss: 0.0693 - val_acc: 0.9796\n",
      "Epoch 11/20\n",
      "48000/48000 [==============================] - 4s 83us/step - loss: 0.0333 - acc: 0.9891 - val_loss: 0.0681 - val_acc: 0.9818\n",
      "Epoch 12/20\n",
      "48000/48000 [==============================] - 4s 84us/step - loss: 0.0288 - acc: 0.9902 - val_loss: 0.0704 - val_acc: 0.9808\n",
      "Epoch 13/20\n",
      "48000/48000 [==============================] - 4s 82us/step - loss: 0.0317 - acc: 0.9892 - val_loss: 0.0707 - val_acc: 0.9803\n",
      "Epoch 14/20\n",
      "48000/48000 [==============================] - 4s 81us/step - loss: 0.0279 - acc: 0.9904 - val_loss: 0.0729 - val_acc: 0.9810\n",
      "Epoch 15/20\n",
      "48000/48000 [==============================] - 4s 83us/step - loss: 0.0262 - acc: 0.9905 - val_loss: 0.0713 - val_acc: 0.9818\n",
      "Epoch 16/20\n",
      "48000/48000 [==============================] - 4s 83us/step - loss: 0.0266 - acc: 0.9912 - val_loss: 0.0769 - val_acc: 0.9796\n",
      "Epoch 17/20\n",
      "48000/48000 [==============================] - 4s 84us/step - loss: 0.0233 - acc: 0.9918 - val_loss: 0.0773 - val_acc: 0.9798\n",
      "Epoch 18/20\n",
      "48000/48000 [==============================] - 4s 88us/step - loss: 0.0217 - acc: 0.9927 - val_loss: 0.0767 - val_acc: 0.9808\n",
      "Epoch 19/20\n",
      "48000/48000 [==============================] - 5s 99us/step - loss: 0.0207 - acc: 0.9932 - val_loss: 0.0760 - val_acc: 0.9821\n",
      "Epoch 20/20\n",
      "48000/48000 [==============================] - 28804s 600ms/step - loss: 0.0211 - acc: 0.9925 - val_loss: 0.0843 - val_acc: 0.9791\n"
     ]
    }
   ],
   "source": [
    "model1.compile(loss='categorical_crossentropy', optimizer='adam', metrics=['accuracy'])\n",
    "model1_train_history = model1.fit(x=x_train_normalize, y=y_train_onehot, \n",
    "                                 batch_size=100, epochs=20, verbose=1, validation_split=0.2)"
   ]
  },
  {
   "cell_type": "code",
   "execution_count": 17,
   "metadata": {},
   "outputs": [
    {
     "data": {
      "image/png": "[encoded data removed]",
      "text/plain": [
       "<Figure size 432x288 with 1 Axes>"
      ]
     },
     "metadata": {},
     "output_type": "display_data"
    }
   ],
   "source": [
    "show_train_history(model1_train_history, 'acc', 'val_acc')"
   ]
  },
  {
   "cell_type": "markdown",
   "metadata": {},
   "source": [
    "#### 我们发现过拟合现象已经减少了很多"
   ]
  },
  {
   "cell_type": "code",
   "execution_count": 18,
   "metadata": {},
   "outputs": [
    {
     "name": "stdout",
     "output_type": "stream",
     "text": [
      "10000/10000 [==============================] - 1s 94us/step\n",
      "accuracy =  0.9817\n"
     ]
    }
   ],
   "source": [
    "scores = model1.evaluate(x_test, y_test_onehot)\n",
    "print('accuracy = ', scores[1])"
   ]
  }
 ],
 "metadata": {
  "kernelspec": {
   "display_name": "Python 3",
   "language": "python",
   "name": "python3"
  },
  "language_info": {
   "codemirror_mode": {
    "name": "ipython",
    "version": 3
   },
   "file_extension": ".py",
   "mimetype": "text/x-python",
   "name": "python",
   "nbconvert_exporter": "python",
   "pygments_lexer": "ipython3",
   "version": "3.6.5"
  }
 },
 "nbformat": 4,
 "nbformat_minor": 2
}
