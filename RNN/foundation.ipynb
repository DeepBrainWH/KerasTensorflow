{
 "cells": [
  {
   "cell_type": "markdown",
   "metadata": {},
   "source": [
    "### Rnn简单应用案例"
   ]
  },
  {
   "cell_type": "code",
   "execution_count": 1,
   "metadata": {},
   "outputs": [],
   "source": [
    "import numpy as np"
   ]
  },
  {
   "cell_type": "code",
   "execution_count": 2,
   "metadata": {},
   "outputs": [
    {
     "name": "stdout",
     "output_type": "stream",
     "text": [
      "d=272; v=122\n"
     ]
    }
   ],
   "source": [
    "data = open(\"./data/data.txt\", \"r\",encoding='utf-8').read()\n",
    "chars = list(set(data))\n",
    "data_size, vocab_size = len(data), len(chars)\n",
    "print('d=%d; v=%d'%(data_size, vocab_size))"
   ]
  },
  {
   "cell_type": "code",
   "execution_count": 13,
   "metadata": {},
   "outputs": [],
   "source": [
    "char_to_index = {ch:i for i, ch in enumerate(chars)}\n",
    "index_to_char = {i:ch for i, ch in enumerate(chars)}"
   ]
  },
  {
   "cell_type": "markdown",
   "metadata": {},
   "source": [
    "### 定义递归神经网络"
   ]
  },
  {
   "cell_type": "code",
   "execution_count": 14,
   "metadata": {},
   "outputs": [],
   "source": [
    "vocab_len = len(set(data))"
   ]
  },
  {
   "cell_type": "code",
   "execution_count": null,
   "metadata": {},
   "outputs": [],
   "source": [
    "hidden_size = 100 # define the hidden layer's size of neural unit\n",
    "seq_length = 25 # define the max length of recurrent neural network's sequence\n",
    "learning_rate = 1e-1\n",
    "\n",
    "wxh = np.random.randn(hidden_size, vocab_len)*0.01\n",
    "# x = np.random.randn(x1, x2, ...)*sigma + mu represents: x~N(mu, sigma^2)\n",
    "whh = np.random.randn(hidden_size, hidden_size)*0.01\n",
    "why = np.random.randn(vocab_len, hidden_size)*0.01\n",
    "b_h = np.zeros([hidden_size, 1])\n",
    "b_y = np.zeros([vocab_len, 1])"
   ]
  }
 ],
 "metadata": {
  "kernelspec": {
   "display_name": "Python 3",
   "language": "python",
   "name": "python3"
  },
  "language_info": {
   "codemirror_mode": {
    "name": "ipython",
    "version": 3
   },
   "file_extension": ".py",
   "mimetype": "text/x-python",
   "name": "python",
   "nbconvert_exporter": "python",
   "pygments_lexer": "ipython3",
   "version": "3.6.5"
  }
 },
 "nbformat": 4,
 "nbformat_minor": 2
}
