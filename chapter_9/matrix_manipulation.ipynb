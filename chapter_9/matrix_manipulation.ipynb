{
 "cells": [
  {
   "cell_type": "markdown",
   "metadata": {},
   "source": [
    "## Matrix manipulation"
   ]
  },
  {
   "cell_type": "markdown",
   "metadata": {},
   "source": [
    "#### 1.Using numpy"
   ]
  },
  {
   "cell_type": "code",
   "execution_count": 1,
   "metadata": {},
   "outputs": [],
   "source": [
    "import numpy as np"
   ]
  },
  {
   "cell_type": "code",
   "execution_count": 2,
   "metadata": {},
   "outputs": [],
   "source": [
    "a = np.array([[0.4, 0.2, 0.4]])\n",
    "w = np.array([[-0.5, -0.2],\n",
    "               [-0.3, 0.4],\n",
    "               [-0.5, 0.2]])\n",
    "b = np.array([[0.1, 0.2]])"
   ]
  },
  {
   "cell_type": "code",
   "execution_count": 3,
   "metadata": {},
   "outputs": [
    {
     "name": "stdout",
     "output_type": "stream",
     "text": [
      "[[-0.36  0.28]]\n"
     ]
    }
   ],
   "source": [
    "xwb = a.dot(w) + b\n",
    "print(xwb)\n",
    "def relu(a):\n",
    "    a[a<0] = 0\n",
    "    return a"
   ]
  },
  {
   "cell_type": "code",
   "execution_count": 4,
   "metadata": {},
   "outputs": [
    {
     "data": {
      "text/plain": [
       "array([[0.  , 0.28]])"
      ]
     },
     "execution_count": 4,
     "metadata": {},
     "output_type": "execute_result"
    }
   ],
   "source": [
    "relu(xwb)"
   ]
  },
  {
   "cell_type": "markdown",
   "metadata": {},
   "source": [
    "#### 2. Using tensorflow"
   ]
  },
  {
   "cell_type": "code",
   "execution_count": 5,
   "metadata": {},
   "outputs": [],
   "source": [
    "import tensorflow as tf"
   ]
  },
  {
   "cell_type": "code",
   "execution_count": 6,
   "metadata": {},
   "outputs": [
    {
     "name": "stdout",
     "output_type": "stream",
     "text": [
      "xwb:\n",
      "[[-0.36000004  0.28      ]]\n",
      "relu:\n",
      "[[0.   0.28]]\n"
     ]
    }
   ],
   "source": [
    "x = tf.Variable([[0.4, 0.2, 0.4]])\n",
    "w = tf.Variable([[-0.5, -0.2],\n",
    "               [-0.3, 0.4],\n",
    "               [-0.5, 0.2]])\n",
    "b = tf.Variable([[0.1, 0.2]])\n",
    "y = tf.matmul(x, w) + b\n",
    "with tf.Session() as sess:\n",
    "    sess.run(tf.global_variables_initializer())\n",
    "    print(\"xwb:\");print(sess.run(y))\n",
    "    print(\"relu:\");print(sess.run(tf.nn.relu(y)))"
   ]
  },
  {
   "cell_type": "markdown",
   "metadata": {},
   "source": [
    "#### 3.Initializing the valuew with standard normal distribution"
   ]
  },
  {
   "cell_type": "markdown",
   "metadata": {},
   "source": [
    "##### 3-1: Using numpy library"
   ]
  },
  {
   "cell_type": "code",
   "execution_count": 10,
   "metadata": {},
   "outputs": [
    {
     "name": "stdout",
     "output_type": "stream",
     "text": [
      "[[ 0.9724167   0.01261378]\n",
      " [-0.99284822  0.39216896]\n",
      " [ 0.0749017   0.37621181]]\n",
      "[[-2.16862612  0.61789298]]\n",
      "[[-1.9482684   0.85185701]]\n",
      "[[0.         0.85185701]]\n"
     ]
    }
   ],
   "source": [
    "x = np.array([[0.4, 0.2, 0.4]])\n",
    "w = np.random.randn(3, 2)\n",
    "b = np.random.randn(1, 2)\n",
    "print(w);print(b)\n",
    "xwb = x.dot(w) + b\n",
    "print(xwb)\n",
    "y = relu(xwb)\n",
    "print(y)"
   ]
  },
  {
   "cell_type": "markdown",
   "metadata": {},
   "source": [
    "##### 3-2: Using tensorflow library"
   ]
  },
  {
   "cell_type": "code",
   "execution_count": 13,
   "metadata": {},
   "outputs": [
    {
     "name": "stdout",
     "output_type": "stream",
     "text": [
      "[[0.5732507  0.87966853]]\n",
      "[[-2.1641607  -0.6248603 ]\n",
      " [-1.0683779  -1.8003294 ]\n",
      " [ 1.0584977  -0.16282682]]\n",
      "[[0.        0.2045278]]\n"
     ]
    }
   ],
   "source": [
    "t_x = tf.Variable([[0.4, 0.2, 0.4]])\n",
    "t_w = tf.random_normal(shape=(3, 2))\n",
    "t_b = tf.random_normal(shape=(1, 2))\n",
    "t_xwb = tf.matmul(t_x, t_w) + t_b\n",
    "t_y = tf.nn.relu(t_xwb)\n",
    "with tf.Session() as sess:\n",
    "    sess.run(tf.global_variables_initializer())\n",
    "    (b, w, y) = sess.run([t_b, t_w, t_y])\n",
    "    print(b);print(w);print(y)   "
   ]
  },
  {
   "cell_type": "code",
   "execution_count": null,
   "metadata": {},
   "outputs": [],
   "source": []
  }
 ],
 "metadata": {
  "kernelspec": {
   "display_name": "Python 3",
   "language": "python",
   "name": "python3"
  },
  "language_info": {
   "codemirror_mode": {
    "name": "ipython",
    "version": 3
   },
   "file_extension": ".py",
   "mimetype": "text/x-python",
   "name": "python",
   "nbconvert_exporter": "python",
   "pygments_lexer": "ipython3",
   "version": "3.6.5"
  }
 },
 "nbformat": 4,
 "nbformat_minor": 2
}
