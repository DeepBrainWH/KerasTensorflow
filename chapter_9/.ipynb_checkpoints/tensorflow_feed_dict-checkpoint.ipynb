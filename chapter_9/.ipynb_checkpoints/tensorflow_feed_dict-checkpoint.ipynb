{
 "cells": [
  {
   "cell_type": "markdown",
   "metadata": {},
   "source": [
    "## Example: Train a two layer ReLU network on random data with L2 loss"
   ]
  },
  {
   "cell_type": "code",
   "execution_count": 1,
   "metadata": {},
   "outputs": [],
   "source": [
    "import tensorflow as tf\n",
    "import numpy as np"
   ]
  },
  {
   "cell_type": "code",
   "execution_count": 2,
   "metadata": {},
   "outputs": [],
   "source": [
    "N, D, H = 64, 1000, 100\n",
    "x = tf.placeholder(tf.float32, shape=(N, D))\n",
    "y = tf.placeholder(tf.float32, shape=(N, D))\n",
    "w1 = tf.placeholder(tf.float32, shape=(D, H))\n",
    "w2 = tf.placeholder(tf.float32, shape=(H, D))\n",
    "\n",
    "h = tf.maximum(tf.matmul(x, w1), 0)\n",
    "y_pred = tf.matmul(h, w2)\n",
    "diff = y_pred - y\n",
    "\n",
    "loss = tf.reduce_mean(tf.reduce_sum(diff**2, axis=1))"
   ]
  },
  {
   "cell_type": "code",
   "execution_count": 7,
   "metadata": {},
   "outputs": [
    {
     "name": "stdout",
     "output_type": "stream",
     "text": [
      "0step, loss value is: 47480790.0\n",
      "100step, loss value is: 966.79553\n",
      "200step, loss value is: 966.7927\n",
      "300step, loss value is: 966.7901\n",
      "400step, loss value is: 966.7875\n",
      "500step, loss value is: 966.78485\n",
      "600step, loss value is: 966.7822\n",
      "700step, loss value is: 966.7796\n",
      "800step, loss value is: 966.777\n",
      "900step, loss value is: 966.77435\n",
      "1000step, loss value is: 966.7717\n",
      "1100step, loss value is: 966.7691\n",
      "1200step, loss value is: 966.7665\n",
      "1300step, loss value is: 966.76385\n",
      "1400step, loss value is: 966.7612\n",
      "1500step, loss value is: 966.7586\n",
      "1600step, loss value is: 966.756\n",
      "1700step, loss value is: 966.75336\n",
      "1800step, loss value is: 966.75073\n",
      "1900step, loss value is: 966.74805\n",
      "2000step, loss value is: 966.7455\n",
      "2100step, loss value is: 966.7428\n",
      "2200step, loss value is: 966.74023\n",
      "2300step, loss value is: 966.73755\n",
      "2400step, loss value is: 966.735\n",
      "2500step, loss value is: 966.7323\n",
      "2600step, loss value is: 966.7297\n",
      "2700step, loss value is: 966.72705\n",
      "2800step, loss value is: 966.7244\n",
      "2900step, loss value is: 966.7218\n",
      "3000step, loss value is: 966.7191\n",
      "3100step, loss value is: 966.71655\n",
      "3200step, loss value is: 966.7139\n",
      "3300step, loss value is: 966.7113\n",
      "3400step, loss value is: 966.7086\n",
      "3500step, loss value is: 966.70605\n",
      "3600step, loss value is: 966.70337\n",
      "3700step, loss value is: 966.70074\n",
      "3800step, loss value is: 966.6981\n",
      "3900step, loss value is: 966.69543\n",
      "4000step, loss value is: 966.6929\n",
      "4100step, loss value is: 966.6902\n",
      "4200step, loss value is: 966.68756\n",
      "4300step, loss value is: 966.68494\n",
      "4400step, loss value is: 966.68225\n",
      "4500step, loss value is: 966.6797\n",
      "4600step, loss value is: 966.677\n",
      "4700step, loss value is: 966.67444\n",
      "4800step, loss value is: 966.6718\n",
      "4900step, loss value is: 966.6692\n"
     ]
    }
   ],
   "source": [
    "grad_w1, grad_w2 = tf.gradients(loss, [w1, w2])\n",
    "\n",
    "with tf.Session() as sess:\n",
    "    values = {x: np.random.randn(N, D),\n",
    "             w1: np.random.randn(D, H),\n",
    "             w2: np.random.randn(H, D),\n",
    "             y: np.random.randn(N, D)}\n",
    "    sess.run(tf.global_variables_initializer())\n",
    "    \n",
    "    learning_rate = 1e-5\n",
    "    for t in range(5000):\n",
    "        out = sess.run([loss, grad_w1, grad_w2], \n",
    "                       feed_dict=values)\n",
    "        loss_val, grad_w1_val, grad_w2_val = out\n",
    "        values[w1] -= learning_rate * grad_w1_val\n",
    "        values[w2] -= learning_rate * grad_w2_val\n",
    "        if(t % 100 == 0):\n",
    "            print(str(t) + \"step, loss value is: \" + str(loss_val))\n",
    "    "
   ]
  },
  {
   "cell_type": "markdown",
   "metadata": {},
   "source": [
    "## tf.gradients() function explain"
   ]
  },
  {
   "cell_type": "code",
   "execution_count": 12,
   "metadata": {},
   "outputs": [
    {
     "name": "stdout",
     "output_type": "stream",
     "text": [
      "[ 0.33668616  2.1784432  -2.4673347 ]\n",
      "[<tf.Tensor 'gradients_7/mul_4_grad/Reshape_1:0' shape=<unknown> dtype=float32>]\n"
     ]
    }
   ],
   "source": [
    "x = tf.placeholder(tf.float32)\n",
    "y = 2*x\n",
    "var_grad = tf.gradients(y, x)\n",
    "with tf.Session() as sess:\n",
    "    my_x = np.random.randn(3)\n",
    "    sess.run(tf.global_variables_initializer())\n",
    "    print(sess.run(var_grad, feed_dict={x: my_x}))"
   ]
  }
 ],
 "metadata": {
  "kernelspec": {
   "display_name": "Python 3",
   "language": "python",
   "name": "python3"
  },
  "language_info": {
   "codemirror_mode": {
    "name": "ipython",
    "version": 3
   },
   "file_extension": ".py",
   "mimetype": "text/x-python",
   "name": "python",
   "nbconvert_exporter": "python",
   "pygments_lexer": "ipython3",
   "version": "3.6.5"
  }
 },
 "nbformat": 4,
 "nbformat_minor": 2
}
