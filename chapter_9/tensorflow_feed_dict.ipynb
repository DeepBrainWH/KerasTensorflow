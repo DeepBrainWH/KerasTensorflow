{
 "cells": [
  {
   "cell_type": "markdown",
   "metadata": {},
   "source": [
    "## Example: Train a two layer ReLU network on random data with L2 loss"
   ]
  },
  {
   "cell_type": "code",
   "execution_count": 1,
   "metadata": {},
   "outputs": [],
   "source": [
    "import tensorflow as tf\n",
    "import numpy as np"
   ]
  },
  {
   "cell_type": "code",
   "execution_count": 2,
   "metadata": {},
   "outputs": [],
   "source": [
    "N, D, H = 64, 1000, 100\n",
    "x = tf.placeholder(tf.float32, shape=(N, D))\n",
    "y = tf.placeholder(tf.float32, shape=(N, D))\n",
    "w1 = tf.placeholder(tf.float32, shape=(D, H))\n",
    "w2 = tf.placeholder(tf.float32, shape=(H, D))\n",
    "\n",
    "h = tf.maximum(tf.matmul(x, w1), 0)\n",
    "y_pred = tf.matmul(h, w2)\n",
    "diff = y_pred - y\n",
    "\n",
    "loss = tf.reduce_mean(tf.reduce_sum(diff**2, axis=1))"
   ]
  },
  {
   "cell_type": "code",
   "execution_count": 3,
   "metadata": {},
   "outputs": [
    {
     "name": "stdout",
     "output_type": "stream",
     "text": [
      "0step, loss value is: 49488776.0\n",
      "100step, loss value is: 968.7559\n",
      "200step, loss value is: 968.75354\n",
      "300step, loss value is: 968.7512\n",
      "400step, loss value is: 968.7488\n",
      "500step, loss value is: 968.74646\n",
      "600step, loss value is: 968.74414\n",
      "700step, loss value is: 968.7417\n",
      "800step, loss value is: 968.7394\n",
      "900step, loss value is: 968.73706\n",
      "1000step, loss value is: 968.7346\n",
      "1100step, loss value is: 968.7323\n",
      "1200step, loss value is: 968.7299\n",
      "1300step, loss value is: 968.72754\n",
      "1400step, loss value is: 968.72516\n",
      "1500step, loss value is: 968.7228\n",
      "1600step, loss value is: 968.72046\n",
      "1700step, loss value is: 968.71814\n",
      "1800step, loss value is: 968.7157\n",
      "1900step, loss value is: 968.7134\n",
      "2000step, loss value is: 968.711\n",
      "2100step, loss value is: 968.7086\n",
      "2200step, loss value is: 968.7063\n",
      "2300step, loss value is: 968.7039\n",
      "2400step, loss value is: 968.7015\n",
      "2500step, loss value is: 968.69916\n",
      "2600step, loss value is: 968.6968\n",
      "2700step, loss value is: 968.6944\n",
      "2800step, loss value is: 968.692\n",
      "2900step, loss value is: 968.6897\n",
      "3000step, loss value is: 968.6873\n",
      "3100step, loss value is: 968.68494\n",
      "3200step, loss value is: 968.68256\n",
      "3300step, loss value is: 968.68024\n",
      "3400step, loss value is: 968.6778\n",
      "3500step, loss value is: 968.6755\n",
      "3600step, loss value is: 968.6731\n",
      "3700step, loss value is: 968.6708\n",
      "3800step, loss value is: 968.6684\n",
      "3900step, loss value is: 968.666\n",
      "4000step, loss value is: 968.6637\n",
      "4100step, loss value is: 968.66125\n",
      "4200step, loss value is: 968.65894\n",
      "4300step, loss value is: 968.6565\n",
      "4400step, loss value is: 968.6542\n",
      "4500step, loss value is: 968.65173\n",
      "4600step, loss value is: 968.6494\n",
      "4700step, loss value is: 968.64703\n",
      "4800step, loss value is: 968.64465\n",
      "4900step, loss value is: 968.64233\n"
     ]
    }
   ],
   "source": [
    "grad_w1, grad_w2 = tf.gradients(loss, [w1, w2])\n",
    "\n",
    "with tf.Session() as sess:\n",
    "    values = {x: np.random.randn(N, D),\n",
    "             w1: np.random.randn(D, H),\n",
    "             w2: np.random.randn(H, D),\n",
    "             y: np.random.randn(N, D)}\n",
    "    sess.run(tf.global_variables_initializer())\n",
    "    \n",
    "    learning_rate = 1e-5\n",
    "    for t in range(5000):\n",
    "        out = sess.run([loss, grad_w1, grad_w2], \n",
    "                       feed_dict=values)\n",
    "        loss_val, grad_w1_val, grad_w2_val = out\n",
    "        values[w1] -= learning_rate * grad_w1_val\n",
    "        values[w2] -= learning_rate * grad_w2_val\n",
    "        if(t % 100 == 0):\n",
    "            print(str(t) + \"step, loss value is: \" + str(loss_val))\n",
    "    "
   ]
  },
  {
   "cell_type": "markdown",
   "metadata": {},
   "source": [
    "## tf.gradients() function explain"
   ]
  },
  {
   "cell_type": "code",
   "execution_count": 4,
   "metadata": {},
   "outputs": [
    {
     "name": "stdout",
     "output_type": "stream",
     "text": [
      "[array([2., 2., 2.], dtype=float32)]\n"
     ]
    }
   ],
   "source": [
    "x = tf.placeholder(tf.float32)\n",
    "y = 2*x\n",
    "var_grad = tf.gradients(y, x)\n",
    "with tf.Session() as sess:\n",
    "    my_x = np.random.randn(3)\n",
    "    sess.run(tf.global_variables_initializer())\n",
    "    print(sess.run(var_grad, feed_dict={x: my_x}))"
   ]
  }
 ],
 "metadata": {
  "kernelspec": {
   "display_name": "Python 3",
   "language": "python",
   "name": "python3"
  },
  "language_info": {
   "codemirror_mode": {
    "name": "ipython",
    "version": 3
   },
   "file_extension": ".py",
   "mimetype": "text/x-python",
   "name": "python",
   "nbconvert_exporter": "python",
   "pygments_lexer": "ipython3",
   "version": "3.6.5"
  }
 },
 "nbformat": 4,
 "nbformat_minor": 2
}
