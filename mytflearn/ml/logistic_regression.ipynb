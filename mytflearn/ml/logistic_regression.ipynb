{
 "cells": [
  {
   "cell_type": "code",
   "execution_count": 8,
   "metadata": {},
   "outputs": [],
   "source": [
    "from __future__ import  print_function, division, absolute_import\n",
    "import tflearn as tfl\n",
    "import tensorflow as tf"
   ]
  },
  {
   "cell_type": "code",
   "execution_count": 9,
   "metadata": {},
   "outputs": [],
   "source": [
    "# Logical NOT Operator\n",
    "\n",
    "X = [[0.], [1.], [0.], [0.], [1.]]\n",
    "Y = [[1.], [0.], [1.], [1.], [0.]]"
   ]
  },
  {
   "cell_type": "code",
   "execution_count": 13,
   "metadata": {},
   "outputs": [
    {
     "name": "stdout",
     "output_type": "stream",
     "text": [
      "Training Step: 100  | total loss: \u001b[1m\u001b[32m0.01215\u001b[0m\u001b[0m | time: 0.005s\n",
      "| SGD | epoch: 100 | loss: 0.01215 -- iter: 5/5\n",
      "not 0 is: 1\n"
     ]
    }
   ],
   "source": [
    "with tf.Graph().as_default():\n",
    "    g = tfl.input_data(shape=[None, 1])\n",
    "    g = tfl.fully_connected(g, 128, activation='linear')\n",
    "    g = tfl.fully_connected(g, 128, activation='linear')\n",
    "    g = tfl.fully_connected(g, 1, activation='sigmoid')\n",
    "    g = tfl.regression(g, optimizer='sgd', learning_rate=2., \n",
    "                       loss='mean_square')\n",
    "    model1 = tfl.DNN(g, tensorboard_dir='./', tensorboard_verbose=1)\n",
    "    model1.fit(X, Y, n_epoch=100, snapshot_epoch=False)\n",
    "    h = 1 if model1.predict([[0.]])>0.5 else 0\n",
    "    print(\"not 0 is:\",h)"
   ]
  },
  {
   "cell_type": "code",
   "execution_count": 22,
   "metadata": {},
   "outputs": [
    {
     "name": "stdout",
     "output_type": "stream",
     "text": [
      "Training Step: 100  | total loss: \u001b[1m\u001b[32m0.23731\u001b[0m\u001b[0m | time: 0.006s\n",
      "| SGD | epoch: 100 | loss: 0.23731 -- iter: 4/4\n",
      "1\n"
     ]
    }
   ],
   "source": [
    "# Logistical OR opeartor\n",
    "\n",
    "X = [[0., 0.], [0., 1.], [1., 0.], [1., 1.]]\n",
    "Y = [[0.], [1.], [1.], [1.]]\n",
    "\n",
    "with tf.Graph().as_default():\n",
    "    g = tfl.input_data(shape=[None, 2])\n",
    "    g = tfl.fully_connected(g, 50, activation='linear')\n",
    "    g = tfl.fully_connected(g, 50, activation='linear')\n",
    "    g = tfl.fully_connected(g, 1, activation='sigmoid')\n",
    "    g = tfl.regression(g, optimizer='sgd', learning_rate=0.01, loss='mean_square')\n",
    "    model = tfl.DNN(g)\n",
    "    model.fit(X, Y, n_epoch=100, snapshot_epoch=False)\n",
    "    h = 1 if model.predict([[0., 0.]])>0.5 else 0\n",
    "    print(h)"
   ]
  },
  {
   "cell_type": "code",
   "execution_count": null,
   "metadata": {},
   "outputs": [],
   "source": []
  }
 ],
 "metadata": {
  "kernelspec": {
   "display_name": "Python 3",
   "language": "python",
   "name": "python3"
  },
  "language_info": {
   "codemirror_mode": {
    "name": "ipython",
    "version": 3
   },
   "file_extension": ".py",
   "mimetype": "text/x-python",
   "name": "python",
   "nbconvert_exporter": "python",
   "pygments_lexer": "ipython3",
   "version": "3.6.2"
  }
 },
 "nbformat": 4,
 "nbformat_minor": 2
}
